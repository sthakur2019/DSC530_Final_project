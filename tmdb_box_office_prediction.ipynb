{
 "cells": [
  {
   "cell_type": "code",
   "execution_count": 3,
   "metadata": {},
   "outputs": [],
   "source": [
    "import pandas as pd\n",
    "import matplotlib.pyplot as plt\n",
    "import numpy as np\n",
    "import scipy.stats\n",
    "import json\n",
    "pd.set_option('display.max_columns',None)\n",
    "pd.set_option('display.max_rows',None)"
   ]
  },
  {
   "cell_type": "code",
   "execution_count": 4,
   "metadata": {},
   "outputs": [],
   "source": [
    "df_train = pd.read_csv('train.csv')"
   ]
  },
  {
   "cell_type": "code",
   "execution_count": 5,
   "metadata": {},
   "outputs": [
    {
     "data": {
      "text/html": [
       "<div>\n",
       "<style scoped>\n",
       "    .dataframe tbody tr th:only-of-type {\n",
       "        vertical-align: middle;\n",
       "    }\n",
       "\n",
       "    .dataframe tbody tr th {\n",
       "        vertical-align: top;\n",
       "    }\n",
       "\n",
       "    .dataframe thead th {\n",
       "        text-align: right;\n",
       "    }\n",
       "</style>\n",
       "<table border=\"1\" class=\"dataframe\">\n",
       "  <thead>\n",
       "    <tr style=\"text-align: right;\">\n",
       "      <th></th>\n",
       "      <th>id</th>\n",
       "      <th>belongs_to_collection</th>\n",
       "      <th>budget</th>\n",
       "      <th>genres</th>\n",
       "      <th>homepage</th>\n",
       "      <th>imdb_id</th>\n",
       "      <th>original_language</th>\n",
       "      <th>original_title</th>\n",
       "      <th>overview</th>\n",
       "      <th>popularity</th>\n",
       "      <th>poster_path</th>\n",
       "      <th>production_companies</th>\n",
       "      <th>production_countries</th>\n",
       "      <th>release_date</th>\n",
       "      <th>runtime</th>\n",
       "      <th>spoken_languages</th>\n",
       "      <th>status</th>\n",
       "      <th>tagline</th>\n",
       "      <th>title</th>\n",
       "      <th>revenue</th>\n",
       "    </tr>\n",
       "  </thead>\n",
       "  <tbody>\n",
       "    <tr>\n",
       "      <th>0</th>\n",
       "      <td>1</td>\n",
       "      <td>[{'id': 313576, 'name': 'Hot Tub Time Machine ...</td>\n",
       "      <td>14000000</td>\n",
       "      <td>[{'id': 35, 'name': 'Comedy'}]</td>\n",
       "      <td>NaN</td>\n",
       "      <td>tt2637294</td>\n",
       "      <td>en</td>\n",
       "      <td>Hot Tub Time Machine 2</td>\n",
       "      <td>When Lou, who has become the \"father of the In...</td>\n",
       "      <td>6.575393</td>\n",
       "      <td>/tQtWuwvMf0hCc2QR2tkolwl7c3c.jpg</td>\n",
       "      <td>[{'name': 'Paramount Pictures', 'id': 4}, {'na...</td>\n",
       "      <td>[{'iso_3166_1': 'US', 'name': 'United States o...</td>\n",
       "      <td>2/20/15</td>\n",
       "      <td>93.0</td>\n",
       "      <td>[{'iso_639_1': 'en', 'name': 'English'}]</td>\n",
       "      <td>Released</td>\n",
       "      <td>The Laws of Space and Time are About to be Vio...</td>\n",
       "      <td>Hot Tub Time Machine 2</td>\n",
       "      <td>12314651</td>\n",
       "    </tr>\n",
       "    <tr>\n",
       "      <th>1</th>\n",
       "      <td>2</td>\n",
       "      <td>[{'id': 107674, 'name': 'The Princess Diaries ...</td>\n",
       "      <td>40000000</td>\n",
       "      <td>[{'id': 35, 'name': 'Comedy'}, {'id': 18, 'nam...</td>\n",
       "      <td>NaN</td>\n",
       "      <td>tt0368933</td>\n",
       "      <td>en</td>\n",
       "      <td>The Princess Diaries 2: Royal Engagement</td>\n",
       "      <td>Mia Thermopolis is now a college graduate and ...</td>\n",
       "      <td>8.248895</td>\n",
       "      <td>/w9Z7A0GHEhIp7etpj0vyKOeU1Wx.jpg</td>\n",
       "      <td>[{'name': 'Walt Disney Pictures', 'id': 2}]</td>\n",
       "      <td>[{'iso_3166_1': 'US', 'name': 'United States o...</td>\n",
       "      <td>8/6/04</td>\n",
       "      <td>113.0</td>\n",
       "      <td>[{'iso_639_1': 'en', 'name': 'English'}]</td>\n",
       "      <td>Released</td>\n",
       "      <td>It can take a lifetime to find true love; she'...</td>\n",
       "      <td>The Princess Diaries 2: Royal Engagement</td>\n",
       "      <td>95149435</td>\n",
       "    </tr>\n",
       "  </tbody>\n",
       "</table>\n",
       "</div>"
      ],
      "text/plain": [
       "   id                              belongs_to_collection    budget  \\\n",
       "0   1  [{'id': 313576, 'name': 'Hot Tub Time Machine ...  14000000   \n",
       "1   2  [{'id': 107674, 'name': 'The Princess Diaries ...  40000000   \n",
       "\n",
       "                                              genres homepage    imdb_id  \\\n",
       "0                     [{'id': 35, 'name': 'Comedy'}]      NaN  tt2637294   \n",
       "1  [{'id': 35, 'name': 'Comedy'}, {'id': 18, 'nam...      NaN  tt0368933   \n",
       "\n",
       "  original_language                            original_title  \\\n",
       "0                en                    Hot Tub Time Machine 2   \n",
       "1                en  The Princess Diaries 2: Royal Engagement   \n",
       "\n",
       "                                            overview  popularity  \\\n",
       "0  When Lou, who has become the \"father of the In...    6.575393   \n",
       "1  Mia Thermopolis is now a college graduate and ...    8.248895   \n",
       "\n",
       "                        poster_path  \\\n",
       "0  /tQtWuwvMf0hCc2QR2tkolwl7c3c.jpg   \n",
       "1  /w9Z7A0GHEhIp7etpj0vyKOeU1Wx.jpg   \n",
       "\n",
       "                                production_companies  \\\n",
       "0  [{'name': 'Paramount Pictures', 'id': 4}, {'na...   \n",
       "1        [{'name': 'Walt Disney Pictures', 'id': 2}]   \n",
       "\n",
       "                                production_countries release_date  runtime  \\\n",
       "0  [{'iso_3166_1': 'US', 'name': 'United States o...      2/20/15     93.0   \n",
       "1  [{'iso_3166_1': 'US', 'name': 'United States o...       8/6/04    113.0   \n",
       "\n",
       "                           spoken_languages    status  \\\n",
       "0  [{'iso_639_1': 'en', 'name': 'English'}]  Released   \n",
       "1  [{'iso_639_1': 'en', 'name': 'English'}]  Released   \n",
       "\n",
       "                                             tagline  \\\n",
       "0  The Laws of Space and Time are About to be Vio...   \n",
       "1  It can take a lifetime to find true love; she'...   \n",
       "\n",
       "                                      title   revenue  \n",
       "0                    Hot Tub Time Machine 2  12314651  \n",
       "1  The Princess Diaries 2: Royal Engagement  95149435  "
      ]
     },
     "execution_count": 5,
     "metadata": {},
     "output_type": "execute_result"
    }
   ],
   "source": [
    "df_train.head(2)"
   ]
  },
  {
   "cell_type": "code",
   "execution_count": 6,
   "metadata": {},
   "outputs": [
    {
     "data": {
      "text/plain": [
       "Index(['id', 'belongs_to_collection', 'budget', 'genres', 'homepage',\n",
       "       'imdb_id', 'original_language', 'original_title', 'overview',\n",
       "       'popularity', 'poster_path', 'production_companies',\n",
       "       'production_countries', 'release_date', 'runtime', 'spoken_languages',\n",
       "       'status', 'tagline', 'title', 'revenue'],\n",
       "      dtype='object')"
      ]
     },
     "execution_count": 6,
     "metadata": {},
     "output_type": "execute_result"
    }
   ],
   "source": [
    "df_train.columns"
   ]
  },
  {
   "cell_type": "code",
   "execution_count": 7,
   "metadata": {},
   "outputs": [
    {
     "data": {
      "text/html": [
       "<div>\n",
       "<style scoped>\n",
       "    .dataframe tbody tr th:only-of-type {\n",
       "        vertical-align: middle;\n",
       "    }\n",
       "\n",
       "    .dataframe tbody tr th {\n",
       "        vertical-align: top;\n",
       "    }\n",
       "\n",
       "    .dataframe thead th {\n",
       "        text-align: right;\n",
       "    }\n",
       "</style>\n",
       "<table border=\"1\" class=\"dataframe\">\n",
       "  <thead>\n",
       "    <tr style=\"text-align: right;\">\n",
       "      <th></th>\n",
       "      <th>id</th>\n",
       "      <th>belongs_to_collection</th>\n",
       "      <th>budget</th>\n",
       "      <th>genres</th>\n",
       "      <th>homepage</th>\n",
       "      <th>imdb_id</th>\n",
       "      <th>original_language</th>\n",
       "      <th>original_title</th>\n",
       "      <th>overview</th>\n",
       "      <th>popularity</th>\n",
       "      <th>poster_path</th>\n",
       "      <th>production_companies</th>\n",
       "      <th>production_countries</th>\n",
       "      <th>release_date</th>\n",
       "      <th>runtime</th>\n",
       "      <th>spoken_languages</th>\n",
       "      <th>status</th>\n",
       "      <th>tagline</th>\n",
       "      <th>title</th>\n",
       "      <th>revenue</th>\n",
       "    </tr>\n",
       "  </thead>\n",
       "  <tbody>\n",
       "    <tr>\n",
       "      <th>count</th>\n",
       "      <td>3000.000000</td>\n",
       "      <td>604</td>\n",
       "      <td>3.000000e+03</td>\n",
       "      <td>2993</td>\n",
       "      <td>946</td>\n",
       "      <td>3000</td>\n",
       "      <td>3000</td>\n",
       "      <td>3000</td>\n",
       "      <td>2992</td>\n",
       "      <td>3000.000000</td>\n",
       "      <td>2999</td>\n",
       "      <td>2844</td>\n",
       "      <td>2945</td>\n",
       "      <td>3000</td>\n",
       "      <td>2998.000000</td>\n",
       "      <td>2980</td>\n",
       "      <td>3000</td>\n",
       "      <td>2403</td>\n",
       "      <td>3000</td>\n",
       "      <td>3.000000e+03</td>\n",
       "    </tr>\n",
       "    <tr>\n",
       "      <th>unique</th>\n",
       "      <td>NaN</td>\n",
       "      <td>422</td>\n",
       "      <td>NaN</td>\n",
       "      <td>872</td>\n",
       "      <td>941</td>\n",
       "      <td>3000</td>\n",
       "      <td>36</td>\n",
       "      <td>2975</td>\n",
       "      <td>2992</td>\n",
       "      <td>NaN</td>\n",
       "      <td>2999</td>\n",
       "      <td>2383</td>\n",
       "      <td>321</td>\n",
       "      <td>2398</td>\n",
       "      <td>NaN</td>\n",
       "      <td>401</td>\n",
       "      <td>2</td>\n",
       "      <td>2400</td>\n",
       "      <td>2969</td>\n",
       "      <td>NaN</td>\n",
       "    </tr>\n",
       "    <tr>\n",
       "      <th>top</th>\n",
       "      <td>NaN</td>\n",
       "      <td>[{'id': 645, 'name': 'James Bond Collection', ...</td>\n",
       "      <td>NaN</td>\n",
       "      <td>[{'id': 18, 'name': 'Drama'}]</td>\n",
       "      <td>http://www.transformersmovie.com/</td>\n",
       "      <td>tt0099329</td>\n",
       "      <td>en</td>\n",
       "      <td>Casino Royale</td>\n",
       "      <td>A newly developed microchip designed by Zorin ...</td>\n",
       "      <td>NaN</td>\n",
       "      <td>/r4oAoqKQb0GPJ0gO1CWshveTJzt.jpg</td>\n",
       "      <td>[{'name': 'Paramount Pictures', 'id': 4}]</td>\n",
       "      <td>[{'iso_3166_1': 'US', 'name': 'United States o...</td>\n",
       "      <td>9/10/15</td>\n",
       "      <td>NaN</td>\n",
       "      <td>[{'iso_639_1': 'en', 'name': 'English'}]</td>\n",
       "      <td>Released</td>\n",
       "      <td>Based on a true story.</td>\n",
       "      <td>Casino Royale</td>\n",
       "      <td>NaN</td>\n",
       "    </tr>\n",
       "    <tr>\n",
       "      <th>freq</th>\n",
       "      <td>NaN</td>\n",
       "      <td>16</td>\n",
       "      <td>NaN</td>\n",
       "      <td>266</td>\n",
       "      <td>4</td>\n",
       "      <td>1</td>\n",
       "      <td>2575</td>\n",
       "      <td>2</td>\n",
       "      <td>1</td>\n",
       "      <td>NaN</td>\n",
       "      <td>1</td>\n",
       "      <td>51</td>\n",
       "      <td>1752</td>\n",
       "      <td>5</td>\n",
       "      <td>NaN</td>\n",
       "      <td>1817</td>\n",
       "      <td>2996</td>\n",
       "      <td>3</td>\n",
       "      <td>2</td>\n",
       "      <td>NaN</td>\n",
       "    </tr>\n",
       "    <tr>\n",
       "      <th>mean</th>\n",
       "      <td>1500.500000</td>\n",
       "      <td>NaN</td>\n",
       "      <td>2.253133e+07</td>\n",
       "      <td>NaN</td>\n",
       "      <td>NaN</td>\n",
       "      <td>NaN</td>\n",
       "      <td>NaN</td>\n",
       "      <td>NaN</td>\n",
       "      <td>NaN</td>\n",
       "      <td>8.463274</td>\n",
       "      <td>NaN</td>\n",
       "      <td>NaN</td>\n",
       "      <td>NaN</td>\n",
       "      <td>NaN</td>\n",
       "      <td>107.856571</td>\n",
       "      <td>NaN</td>\n",
       "      <td>NaN</td>\n",
       "      <td>NaN</td>\n",
       "      <td>NaN</td>\n",
       "      <td>6.672585e+07</td>\n",
       "    </tr>\n",
       "    <tr>\n",
       "      <th>std</th>\n",
       "      <td>866.169729</td>\n",
       "      <td>NaN</td>\n",
       "      <td>3.702609e+07</td>\n",
       "      <td>NaN</td>\n",
       "      <td>NaN</td>\n",
       "      <td>NaN</td>\n",
       "      <td>NaN</td>\n",
       "      <td>NaN</td>\n",
       "      <td>NaN</td>\n",
       "      <td>12.104000</td>\n",
       "      <td>NaN</td>\n",
       "      <td>NaN</td>\n",
       "      <td>NaN</td>\n",
       "      <td>NaN</td>\n",
       "      <td>22.086434</td>\n",
       "      <td>NaN</td>\n",
       "      <td>NaN</td>\n",
       "      <td>NaN</td>\n",
       "      <td>NaN</td>\n",
       "      <td>1.375323e+08</td>\n",
       "    </tr>\n",
       "    <tr>\n",
       "      <th>min</th>\n",
       "      <td>1.000000</td>\n",
       "      <td>NaN</td>\n",
       "      <td>0.000000e+00</td>\n",
       "      <td>NaN</td>\n",
       "      <td>NaN</td>\n",
       "      <td>NaN</td>\n",
       "      <td>NaN</td>\n",
       "      <td>NaN</td>\n",
       "      <td>NaN</td>\n",
       "      <td>0.000001</td>\n",
       "      <td>NaN</td>\n",
       "      <td>NaN</td>\n",
       "      <td>NaN</td>\n",
       "      <td>NaN</td>\n",
       "      <td>0.000000</td>\n",
       "      <td>NaN</td>\n",
       "      <td>NaN</td>\n",
       "      <td>NaN</td>\n",
       "      <td>NaN</td>\n",
       "      <td>1.000000e+00</td>\n",
       "    </tr>\n",
       "    <tr>\n",
       "      <th>25%</th>\n",
       "      <td>750.750000</td>\n",
       "      <td>NaN</td>\n",
       "      <td>0.000000e+00</td>\n",
       "      <td>NaN</td>\n",
       "      <td>NaN</td>\n",
       "      <td>NaN</td>\n",
       "      <td>NaN</td>\n",
       "      <td>NaN</td>\n",
       "      <td>NaN</td>\n",
       "      <td>4.018053</td>\n",
       "      <td>NaN</td>\n",
       "      <td>NaN</td>\n",
       "      <td>NaN</td>\n",
       "      <td>NaN</td>\n",
       "      <td>94.000000</td>\n",
       "      <td>NaN</td>\n",
       "      <td>NaN</td>\n",
       "      <td>NaN</td>\n",
       "      <td>NaN</td>\n",
       "      <td>2.379808e+06</td>\n",
       "    </tr>\n",
       "    <tr>\n",
       "      <th>50%</th>\n",
       "      <td>1500.500000</td>\n",
       "      <td>NaN</td>\n",
       "      <td>8.000000e+06</td>\n",
       "      <td>NaN</td>\n",
       "      <td>NaN</td>\n",
       "      <td>NaN</td>\n",
       "      <td>NaN</td>\n",
       "      <td>NaN</td>\n",
       "      <td>NaN</td>\n",
       "      <td>7.374861</td>\n",
       "      <td>NaN</td>\n",
       "      <td>NaN</td>\n",
       "      <td>NaN</td>\n",
       "      <td>NaN</td>\n",
       "      <td>104.000000</td>\n",
       "      <td>NaN</td>\n",
       "      <td>NaN</td>\n",
       "      <td>NaN</td>\n",
       "      <td>NaN</td>\n",
       "      <td>1.680707e+07</td>\n",
       "    </tr>\n",
       "    <tr>\n",
       "      <th>75%</th>\n",
       "      <td>2250.250000</td>\n",
       "      <td>NaN</td>\n",
       "      <td>2.900000e+07</td>\n",
       "      <td>NaN</td>\n",
       "      <td>NaN</td>\n",
       "      <td>NaN</td>\n",
       "      <td>NaN</td>\n",
       "      <td>NaN</td>\n",
       "      <td>NaN</td>\n",
       "      <td>10.890983</td>\n",
       "      <td>NaN</td>\n",
       "      <td>NaN</td>\n",
       "      <td>NaN</td>\n",
       "      <td>NaN</td>\n",
       "      <td>118.000000</td>\n",
       "      <td>NaN</td>\n",
       "      <td>NaN</td>\n",
       "      <td>NaN</td>\n",
       "      <td>NaN</td>\n",
       "      <td>6.891920e+07</td>\n",
       "    </tr>\n",
       "    <tr>\n",
       "      <th>max</th>\n",
       "      <td>3000.000000</td>\n",
       "      <td>NaN</td>\n",
       "      <td>3.800000e+08</td>\n",
       "      <td>NaN</td>\n",
       "      <td>NaN</td>\n",
       "      <td>NaN</td>\n",
       "      <td>NaN</td>\n",
       "      <td>NaN</td>\n",
       "      <td>NaN</td>\n",
       "      <td>294.337037</td>\n",
       "      <td>NaN</td>\n",
       "      <td>NaN</td>\n",
       "      <td>NaN</td>\n",
       "      <td>NaN</td>\n",
       "      <td>338.000000</td>\n",
       "      <td>NaN</td>\n",
       "      <td>NaN</td>\n",
       "      <td>NaN</td>\n",
       "      <td>NaN</td>\n",
       "      <td>1.519558e+09</td>\n",
       "    </tr>\n",
       "  </tbody>\n",
       "</table>\n",
       "</div>"
      ],
      "text/plain": [
       "                 id                              belongs_to_collection  \\\n",
       "count   3000.000000                                                604   \n",
       "unique          NaN                                                422   \n",
       "top             NaN  [{'id': 645, 'name': 'James Bond Collection', ...   \n",
       "freq            NaN                                                 16   \n",
       "mean    1500.500000                                                NaN   \n",
       "std      866.169729                                                NaN   \n",
       "min        1.000000                                                NaN   \n",
       "25%      750.750000                                                NaN   \n",
       "50%     1500.500000                                                NaN   \n",
       "75%     2250.250000                                                NaN   \n",
       "max     3000.000000                                                NaN   \n",
       "\n",
       "              budget                         genres  \\\n",
       "count   3.000000e+03                           2993   \n",
       "unique           NaN                            872   \n",
       "top              NaN  [{'id': 18, 'name': 'Drama'}]   \n",
       "freq             NaN                            266   \n",
       "mean    2.253133e+07                            NaN   \n",
       "std     3.702609e+07                            NaN   \n",
       "min     0.000000e+00                            NaN   \n",
       "25%     0.000000e+00                            NaN   \n",
       "50%     8.000000e+06                            NaN   \n",
       "75%     2.900000e+07                            NaN   \n",
       "max     3.800000e+08                            NaN   \n",
       "\n",
       "                                 homepage    imdb_id original_language  \\\n",
       "count                                 946       3000              3000   \n",
       "unique                                941       3000                36   \n",
       "top     http://www.transformersmovie.com/  tt0099329                en   \n",
       "freq                                    4          1              2575   \n",
       "mean                                  NaN        NaN               NaN   \n",
       "std                                   NaN        NaN               NaN   \n",
       "min                                   NaN        NaN               NaN   \n",
       "25%                                   NaN        NaN               NaN   \n",
       "50%                                   NaN        NaN               NaN   \n",
       "75%                                   NaN        NaN               NaN   \n",
       "max                                   NaN        NaN               NaN   \n",
       "\n",
       "       original_title                                           overview  \\\n",
       "count            3000                                               2992   \n",
       "unique           2975                                               2992   \n",
       "top     Casino Royale  A newly developed microchip designed by Zorin ...   \n",
       "freq                2                                                  1   \n",
       "mean              NaN                                                NaN   \n",
       "std               NaN                                                NaN   \n",
       "min               NaN                                                NaN   \n",
       "25%               NaN                                                NaN   \n",
       "50%               NaN                                                NaN   \n",
       "75%               NaN                                                NaN   \n",
       "max               NaN                                                NaN   \n",
       "\n",
       "         popularity                       poster_path  \\\n",
       "count   3000.000000                              2999   \n",
       "unique          NaN                              2999   \n",
       "top             NaN  /r4oAoqKQb0GPJ0gO1CWshveTJzt.jpg   \n",
       "freq            NaN                                 1   \n",
       "mean       8.463274                               NaN   \n",
       "std       12.104000                               NaN   \n",
       "min        0.000001                               NaN   \n",
       "25%        4.018053                               NaN   \n",
       "50%        7.374861                               NaN   \n",
       "75%       10.890983                               NaN   \n",
       "max      294.337037                               NaN   \n",
       "\n",
       "                             production_companies  \\\n",
       "count                                        2844   \n",
       "unique                                       2383   \n",
       "top     [{'name': 'Paramount Pictures', 'id': 4}]   \n",
       "freq                                           51   \n",
       "mean                                          NaN   \n",
       "std                                           NaN   \n",
       "min                                           NaN   \n",
       "25%                                           NaN   \n",
       "50%                                           NaN   \n",
       "75%                                           NaN   \n",
       "max                                           NaN   \n",
       "\n",
       "                                     production_countries release_date  \\\n",
       "count                                                2945         3000   \n",
       "unique                                                321         2398   \n",
       "top     [{'iso_3166_1': 'US', 'name': 'United States o...      9/10/15   \n",
       "freq                                                 1752            5   \n",
       "mean                                                  NaN          NaN   \n",
       "std                                                   NaN          NaN   \n",
       "min                                                   NaN          NaN   \n",
       "25%                                                   NaN          NaN   \n",
       "50%                                                   NaN          NaN   \n",
       "75%                                                   NaN          NaN   \n",
       "max                                                   NaN          NaN   \n",
       "\n",
       "            runtime                          spoken_languages    status  \\\n",
       "count   2998.000000                                      2980      3000   \n",
       "unique          NaN                                       401         2   \n",
       "top             NaN  [{'iso_639_1': 'en', 'name': 'English'}]  Released   \n",
       "freq            NaN                                      1817      2996   \n",
       "mean     107.856571                                       NaN       NaN   \n",
       "std       22.086434                                       NaN       NaN   \n",
       "min        0.000000                                       NaN       NaN   \n",
       "25%       94.000000                                       NaN       NaN   \n",
       "50%      104.000000                                       NaN       NaN   \n",
       "75%      118.000000                                       NaN       NaN   \n",
       "max      338.000000                                       NaN       NaN   \n",
       "\n",
       "                       tagline          title       revenue  \n",
       "count                     2403           3000  3.000000e+03  \n",
       "unique                    2400           2969           NaN  \n",
       "top     Based on a true story.  Casino Royale           NaN  \n",
       "freq                         3              2           NaN  \n",
       "mean                       NaN            NaN  6.672585e+07  \n",
       "std                        NaN            NaN  1.375323e+08  \n",
       "min                        NaN            NaN  1.000000e+00  \n",
       "25%                        NaN            NaN  2.379808e+06  \n",
       "50%                        NaN            NaN  1.680707e+07  \n",
       "75%                        NaN            NaN  6.891920e+07  \n",
       "max                        NaN            NaN  1.519558e+09  "
      ]
     },
     "execution_count": 7,
     "metadata": {},
     "output_type": "execute_result"
    }
   ],
   "source": [
    "df_train.describe(include='all')"
   ]
  },
  {
   "cell_type": "code",
   "execution_count": 8,
   "metadata": {},
   "outputs": [],
   "source": [
    "def repalceNanNone(df,col):\n",
    "    df_train[col] = df_train[col].replace('NaN','[{\"id\":999999,\"name\":\"default\"}]')\n",
    "    df_train[col] = df_train[col].replace('nan','[{\"id\":999999,\"name\":\"default\"}]')\n",
    "    df_train[col] = df_train[col].fillna('[{\"id\":999999,\"name\":\"default\"}]')\n",
    "    df_train[col] = df_train[col].replace(\"\\'\",\"\\\"\").replace(str(None),\"\\\"DEFAULT\\\"\")"
   ]
  },
  {
   "cell_type": "code",
   "execution_count": 9,
   "metadata": {},
   "outputs": [],
   "source": [
    "repalceNanNone(df_train,'belongs_to_collection')\n",
    "repalceNanNone(df_train,'genres')"
   ]
  },
  {
   "cell_type": "code",
   "execution_count": 10,
   "metadata": {},
   "outputs": [],
   "source": [
    "def getCollectId(collection):\n",
    "    try:\n",
    "        return json.loads(collection[1:-1].replace(\"\\'\",\"\\\"\").replace(str(None),\"\\\"DEFAULT\\\"\"))['id']\n",
    "    except json.decoder.JSONDecodeError:\n",
    "        return 999999\n"
   ]
  },
  {
   "cell_type": "code",
   "execution_count": 11,
   "metadata": {},
   "outputs": [],
   "source": [
    "df_train['collection_id']= df_train['belongs_to_collection'].apply(lambda x: getCollectId(x))"
   ]
  },
  {
   "cell_type": "code",
   "execution_count": 12,
   "metadata": {},
   "outputs": [],
   "source": [
    "def getCollectname(collection):\n",
    " #   print(json.loads(collection[1:-1].replace(\"\\'\",\"\\\"\").replace(str(None),\"\\\"DEFAULT\\\"\")))\n",
    "    #print(json.loads(collection[1:-1].replace(\"\\'\",\"\\\"\").replace(str(None),\"\\\"DEFAULT\\\"\"))['id'])\n",
    "    try:\n",
    "        return json.loads(collection[1:-1].replace(\"\\'\",\"\\\"\").replace(str(None),\"\\\"DEFAULT\\\"\"))['name']\n",
    "    except json.decoder.JSONDecodeError:\n",
    "        return \"DEFAULT\""
   ]
  },
  {
   "cell_type": "code",
   "execution_count": 13,
   "metadata": {},
   "outputs": [],
   "source": [
    "df_train['collection_name']= df_train['belongs_to_collection'].apply(lambda x: getCollectname(x))"
   ]
  },
  {
   "cell_type": "code",
   "execution_count": 14,
   "metadata": {},
   "outputs": [],
   "source": [
    "#Getting different genres:\n",
    "all_gen = []\n",
    "\n",
    "\n",
    "def getGenreName(genres):\n",
    "    l = genres[1:-1].split(\"},\")\n",
    "    l_g = [(l+'}').replace(\"}}\",\"}\") for l in l]\n",
    "    for i in l_g:\n",
    "        name = json.loads(i.replace(\"\\'\",\"\\\"\"))['name']\n",
    "        if name in all_gen:\n",
    "            pass\n",
    "        else:\n",
    "            all_gen.append(name)\n",
    "    return all_gen"
   ]
  },
  {
   "cell_type": "code",
   "execution_count": 15,
   "metadata": {},
   "outputs": [],
   "source": [
    "x = df_train['genres'].apply(lambda x: getGenreName(x))"
   ]
  },
  {
   "cell_type": "code",
   "execution_count": 16,
   "metadata": {},
   "outputs": [
    {
     "data": {
      "text/plain": [
       "['Comedy',\n",
       " 'Drama',\n",
       " 'Family',\n",
       " 'Romance',\n",
       " 'Thriller',\n",
       " 'Action',\n",
       " 'Animation',\n",
       " 'Adventure',\n",
       " 'Horror',\n",
       " 'Documentary',\n",
       " 'Music',\n",
       " 'Crime',\n",
       " 'Science Fiction',\n",
       " 'Mystery',\n",
       " 'Foreign',\n",
       " 'Fantasy',\n",
       " 'War',\n",
       " 'Western',\n",
       " 'History',\n",
       " 'default',\n",
       " 'TV Movie']"
      ]
     },
     "execution_count": 16,
     "metadata": {},
     "output_type": "execute_result"
    }
   ],
   "source": [
    "all_gen"
   ]
  },
  {
   "cell_type": "code",
   "execution_count": 17,
   "metadata": {},
   "outputs": [],
   "source": [
    "new_gen_cols = all_gen"
   ]
  },
  {
   "cell_type": "code",
   "execution_count": 18,
   "metadata": {},
   "outputs": [],
   "source": [
    "def getGenreName(genres,need = None):\n",
    "    l = genres[1:-1].split(\"},\")\n",
    "    l_g = [(l+'}').replace(\"}}\",\"}\") for l in l]\n",
    "    genre_ids = []\n",
    "    genre_names = []\n",
    "    for i in l_g:\n",
    "        gen_name = json.loads(i.replace(\"\\'\",\"\\\"\"))['name']\n",
    "        gen_id = json.loads(i.replace(\"\\'\",\"\\\"\"))['id']\n",
    "        genre_ids.append(gen_id)\n",
    "        genre_names.append(gen_name)\n",
    "    if need == 'id':\n",
    "        return genre_ids\n",
    "    elif need == \"name\":\n",
    "        return genre_names\n",
    "    else:\n",
    "        pass"
   ]
  },
  {
   "cell_type": "code",
   "execution_count": 19,
   "metadata": {},
   "outputs": [],
   "source": [
    "df_train['genre_name_list'] = df_train['genres'].apply(lambda x: getGenreName(x,'name') )"
   ]
  },
  {
   "cell_type": "code",
   "execution_count": 20,
   "metadata": {},
   "outputs": [],
   "source": [
    "#Creating columns for each genres and populating value\n",
    "for col in new_gen_cols:\n",
    "    df_train[col] = df_train['genre_name_list'].apply(lambda x: 1 if col in x else 0)"
   ]
  },
  {
   "cell_type": "code",
   "execution_count": 21,
   "metadata": {},
   "outputs": [],
   "source": [
    "#Creating column for count of genres:\n",
    "df_train['num_of_genres'] = df_train['genre_name_list'].apply(lambda x: len(x))"
   ]
  },
  {
   "cell_type": "markdown",
   "metadata": {},
   "source": [
    "production_companies"
   ]
  },
  {
   "cell_type": "code",
   "execution_count": 22,
   "metadata": {},
   "outputs": [],
   "source": [
    "repalceNanNone(df_train,'production_companies')"
   ]
  },
  {
   "cell_type": "code",
   "execution_count": 23,
   "metadata": {},
   "outputs": [],
   "source": [
    "#Getting different genres:\n",
    "all_prod_com = []\n",
    "\n",
    "\n",
    "def getGProdName(prod_names):\n",
    "    l = prod_names[1:-1].split(\"},\")\n",
    "    l_g = [(l+'}').replace(\"}}\",\"}\") for l in l]\n",
    "    for i in l_g:\n",
    "        name = json.loads(i.replace(\"\\'\",\"\\\"\"))['name']\n",
    "        if name in all_prod_com:\n",
    "            pass\n",
    "        else:\n",
    "            all_prod_com.append(name)"
   ]
  },
  {
   "cell_type": "code",
   "execution_count": 24,
   "metadata": {},
   "outputs": [],
   "source": [
    "#For Production company:\n",
    "all_com_names = []\n",
    "def getProdCompanyName(production_companies,need = None):\n",
    "    l = production_companies[1:-1].split(\"},\")\n",
    "    l_g = [(l+'}').replace(\"}}\",\"}\") for l in l]\n",
    "    production_companies_ids = []\n",
    "    production_companies_names = []\n",
    "    try:\n",
    "        for i in l_g:\n",
    "            production_companies_name = json.loads(i.replace(\"\\'\",\"\\\"\").replace(\"\\\\\",\"\"))['name']\n",
    "            production_companies_id = json.loads(i.replace(\"\\'\",\"\\\"\").replace(\"\\\\\",\"\"))['id']\n",
    "            production_companies_ids.append(production_companies_id)\n",
    "            production_companies_names.append(production_companies_name)\n",
    "        if need == 'id':\n",
    "            return production_companies_name_ids\n",
    "        elif need == \"name\":\n",
    "            if production_companies_name not in all_com_names:\n",
    "                all_com_names.append(production_companies_name)\n",
    "            return production_companies_names\n",
    "        else:\n",
    "            pass\n",
    "    except json.decoder.JSONDecodeError:\n",
    "        return \"DEFAULT\""
   ]
  },
  {
   "cell_type": "code",
   "execution_count": 25,
   "metadata": {},
   "outputs": [],
   "source": [
    "df_train['prodcution_company_list'] = df_train['production_companies'].apply(lambda x:getProdCompanyName(x,need='name') )\n",
    "df_train['prodcution_company_count'] = df_train['prodcution_company_list'].apply(lambda x: 0 if x is None else len(x))"
   ]
  },
  {
   "cell_type": "markdown",
   "metadata": {},
   "source": [
    "spoken_languages"
   ]
  },
  {
   "cell_type": "code",
   "execution_count": 26,
   "metadata": {},
   "outputs": [],
   "source": [
    "df_train['spoken_languages'] = df_train['spoken_languages'].replace('NaN','[{\"iso_639_1\":\"default\",\"name\":\"default\"}]')\n",
    "df_train['spoken_languages'] = df_train['spoken_languages'].replace('nan','[{\"iso_639_1\":\"default\",\"name\":\"default\"}]')\n",
    "df_train['spoken_languages'] = df_train['spoken_languages'].fillna('[{\"iso_639_1\":\"default\",\"name\":\"default\"}]')\n",
    "df_train['spoken_languages'] = df_train['spoken_languages'].replace(\"\\'\",\"\\\"\").replace(str(None),\"\\\"DEFAULT\\\"\")"
   ]
  },
  {
   "cell_type": "code",
   "execution_count": 27,
   "metadata": {},
   "outputs": [],
   "source": [
    "#For Production company:\n",
    "all_lan_names = []\n",
    "def getSpokenLanguageISOName(spoken_languages,need = None):\n",
    "#    print(spoken_languages)\n",
    "    l = spoken_languages[1:-1].split(\"},\")\n",
    "    l_g = [(l+'}').replace(\"}}\",\"}\") for l in l]\n",
    "    spoken_languages_ids = []\n",
    "    spoken_languages_names = []\n",
    "    try:\n",
    "        for i in l_g:\n",
    "            spoken_languages_name = json.loads(i.replace(\"\\'\",\"\\\"\").replace(\"\\\\\",\"\"))['iso_639_1']\n",
    "            spoken_languages_id = json.loads(i.replace(\"\\'\",\"\\\"\").replace(\"\\\\\",\"\"))['name']\n",
    "            spoken_languages_ids.append(spoken_languages_id)\n",
    "            spoken_languages_names.append(spoken_languages_name)\n",
    "        if need == 'id':\n",
    "            return spoken_languages_ids\n",
    "        elif need == \"name\":\n",
    "            if spoken_languages_name not in all_lan_names:\n",
    "                all_lan_names.append(spoken_languages_name)\n",
    "            return spoken_languages_names\n",
    "        else:\n",
    "            pass\n",
    "    except json.decoder.JSONDecodeError:\n",
    "        return \"DEFAULT\""
   ]
  },
  {
   "cell_type": "code",
   "execution_count": 28,
   "metadata": {},
   "outputs": [],
   "source": [
    "df_train['language_list'] = df_train['spoken_languages'].apply(lambda x: getSpokenLanguageISOName(x,need='name'))\n",
    "df_train['language_count'] = df_train['language_list'].apply(lambda x: 0 if x is None else len(x))\n",
    "df_train['language_is_english'] = df_train['language_list'].apply(lambda x: 1 if 'en' in x else 0)"
   ]
  },
  {
   "cell_type": "markdown",
   "metadata": {},
   "source": [
    "release_date"
   ]
  },
  {
   "cell_type": "code",
   "execution_count": 29,
   "metadata": {},
   "outputs": [],
   "source": [
    "from datetime import datetime\n",
    "from datetime import timedelta\n",
    "\n",
    "now = datetime.now()"
   ]
  },
  {
   "cell_type": "code",
   "execution_count": 30,
   "metadata": {},
   "outputs": [],
   "source": [
    "df_train['release_date'] = df_train['release_date'].apply(lambda x: datetime.strptime(x,'%m/%d/%y')) \n",
    "df_train['day_since_realeased'] = df_train['release_date'].apply(lambda x: (now-x).days)"
   ]
  },
  {
   "cell_type": "code",
   "execution_count": null,
   "metadata": {},
   "outputs": [],
   "source": []
  },
  {
   "cell_type": "markdown",
   "metadata": {},
   "source": [
    "Primary variable list:  \n",
    "-----------------------  \n",
    "budget  \n",
    "num_of_genres  \n",
    "collection_id  \n",
    "runtime  \n",
    "release_date  \n",
    "popularity  \n",
    "prodcution_company_count  \n",
    "language_count  \n",
    "language_is_english  \n",
    "day_since_realeased  \n",
    "\n",
    "Secondary variable list:  \n",
    "------------------------  \n",
    "Comedy  \n",
    "Drama  \n",
    "Family  \n",
    "Romance  \n",
    "Thriller  \n",
    "Action  \n",
    "Animation  \n",
    "Adventure  \n",
    "Horror  \n",
    "Documentary  \n",
    "Music  \n",
    "Crime  \n",
    "Science Fiction  \n",
    "Mystery  \n",
    "Foreign  \n",
    "Fantasy  \n",
    "War  \n",
    "Western  \n",
    "History  \n",
    "default  \n"
   ]
  },
  {
   "cell_type": "code",
   "execution_count": 31,
   "metadata": {},
   "outputs": [
    {
     "data": {
      "text/html": [
       "<div>\n",
       "<style scoped>\n",
       "    .dataframe tbody tr th:only-of-type {\n",
       "        vertical-align: middle;\n",
       "    }\n",
       "\n",
       "    .dataframe tbody tr th {\n",
       "        vertical-align: top;\n",
       "    }\n",
       "\n",
       "    .dataframe thead th {\n",
       "        text-align: right;\n",
       "    }\n",
       "</style>\n",
       "<table border=\"1\" class=\"dataframe\">\n",
       "  <thead>\n",
       "    <tr style=\"text-align: right;\">\n",
       "      <th></th>\n",
       "      <th>id</th>\n",
       "      <th>belongs_to_collection</th>\n",
       "      <th>budget</th>\n",
       "      <th>genres</th>\n",
       "      <th>homepage</th>\n",
       "      <th>imdb_id</th>\n",
       "      <th>original_language</th>\n",
       "      <th>original_title</th>\n",
       "      <th>overview</th>\n",
       "      <th>popularity</th>\n",
       "      <th>poster_path</th>\n",
       "      <th>production_companies</th>\n",
       "      <th>production_countries</th>\n",
       "      <th>release_date</th>\n",
       "      <th>runtime</th>\n",
       "      <th>spoken_languages</th>\n",
       "      <th>status</th>\n",
       "      <th>tagline</th>\n",
       "      <th>title</th>\n",
       "      <th>revenue</th>\n",
       "      <th>collection_id</th>\n",
       "      <th>collection_name</th>\n",
       "      <th>genre_name_list</th>\n",
       "      <th>Comedy</th>\n",
       "      <th>Drama</th>\n",
       "      <th>Family</th>\n",
       "      <th>Romance</th>\n",
       "      <th>Thriller</th>\n",
       "      <th>Action</th>\n",
       "      <th>Animation</th>\n",
       "      <th>Adventure</th>\n",
       "      <th>Horror</th>\n",
       "      <th>Documentary</th>\n",
       "      <th>Music</th>\n",
       "      <th>Crime</th>\n",
       "      <th>Science Fiction</th>\n",
       "      <th>Mystery</th>\n",
       "      <th>Foreign</th>\n",
       "      <th>Fantasy</th>\n",
       "      <th>War</th>\n",
       "      <th>Western</th>\n",
       "      <th>History</th>\n",
       "      <th>default</th>\n",
       "      <th>TV Movie</th>\n",
       "      <th>num_of_genres</th>\n",
       "      <th>prodcution_company_list</th>\n",
       "      <th>prodcution_company_count</th>\n",
       "      <th>language_list</th>\n",
       "      <th>language_count</th>\n",
       "      <th>language_is_english</th>\n",
       "      <th>day_since_realeased</th>\n",
       "    </tr>\n",
       "  </thead>\n",
       "  <tbody>\n",
       "    <tr>\n",
       "      <th>0</th>\n",
       "      <td>1</td>\n",
       "      <td>[{'id': 313576, 'name': 'Hot Tub Time Machine ...</td>\n",
       "      <td>14000000</td>\n",
       "      <td>[{'id': 35, 'name': 'Comedy'}]</td>\n",
       "      <td>NaN</td>\n",
       "      <td>tt2637294</td>\n",
       "      <td>en</td>\n",
       "      <td>Hot Tub Time Machine 2</td>\n",
       "      <td>When Lou, who has become the \"father of the In...</td>\n",
       "      <td>6.575393</td>\n",
       "      <td>/tQtWuwvMf0hCc2QR2tkolwl7c3c.jpg</td>\n",
       "      <td>[{'name': 'Paramount Pictures', 'id': 4}, {'na...</td>\n",
       "      <td>[{'iso_3166_1': 'US', 'name': 'United States o...</td>\n",
       "      <td>2015-02-20</td>\n",
       "      <td>93.0</td>\n",
       "      <td>[{'iso_639_1': 'en', 'name': 'English'}]</td>\n",
       "      <td>Released</td>\n",
       "      <td>The Laws of Space and Time are About to be Vio...</td>\n",
       "      <td>Hot Tub Time Machine 2</td>\n",
       "      <td>12314651</td>\n",
       "      <td>313576</td>\n",
       "      <td>Hot Tub Time Machine Collection</td>\n",
       "      <td>[Comedy]</td>\n",
       "      <td>1</td>\n",
       "      <td>0</td>\n",
       "      <td>0</td>\n",
       "      <td>0</td>\n",
       "      <td>0</td>\n",
       "      <td>0</td>\n",
       "      <td>0</td>\n",
       "      <td>0</td>\n",
       "      <td>0</td>\n",
       "      <td>0</td>\n",
       "      <td>0</td>\n",
       "      <td>0</td>\n",
       "      <td>0</td>\n",
       "      <td>0</td>\n",
       "      <td>0</td>\n",
       "      <td>0</td>\n",
       "      <td>0</td>\n",
       "      <td>0</td>\n",
       "      <td>0</td>\n",
       "      <td>0</td>\n",
       "      <td>0</td>\n",
       "      <td>1</td>\n",
       "      <td>[Paramount Pictures, United Artists, Metro-Gol...</td>\n",
       "      <td>3</td>\n",
       "      <td>[en]</td>\n",
       "      <td>1</td>\n",
       "      <td>1</td>\n",
       "      <td>1835</td>\n",
       "    </tr>\n",
       "    <tr>\n",
       "      <th>1</th>\n",
       "      <td>2</td>\n",
       "      <td>[{'id': 107674, 'name': 'The Princess Diaries ...</td>\n",
       "      <td>40000000</td>\n",
       "      <td>[{'id': 35, 'name': 'Comedy'}, {'id': 18, 'nam...</td>\n",
       "      <td>NaN</td>\n",
       "      <td>tt0368933</td>\n",
       "      <td>en</td>\n",
       "      <td>The Princess Diaries 2: Royal Engagement</td>\n",
       "      <td>Mia Thermopolis is now a college graduate and ...</td>\n",
       "      <td>8.248895</td>\n",
       "      <td>/w9Z7A0GHEhIp7etpj0vyKOeU1Wx.jpg</td>\n",
       "      <td>[{'name': 'Walt Disney Pictures', 'id': 2}]</td>\n",
       "      <td>[{'iso_3166_1': 'US', 'name': 'United States o...</td>\n",
       "      <td>2004-08-06</td>\n",
       "      <td>113.0</td>\n",
       "      <td>[{'iso_639_1': 'en', 'name': 'English'}]</td>\n",
       "      <td>Released</td>\n",
       "      <td>It can take a lifetime to find true love; she'...</td>\n",
       "      <td>The Princess Diaries 2: Royal Engagement</td>\n",
       "      <td>95149435</td>\n",
       "      <td>107674</td>\n",
       "      <td>The Princess Diaries Collection</td>\n",
       "      <td>[Comedy, Drama, Family, Romance]</td>\n",
       "      <td>1</td>\n",
       "      <td>1</td>\n",
       "      <td>1</td>\n",
       "      <td>1</td>\n",
       "      <td>0</td>\n",
       "      <td>0</td>\n",
       "      <td>0</td>\n",
       "      <td>0</td>\n",
       "      <td>0</td>\n",
       "      <td>0</td>\n",
       "      <td>0</td>\n",
       "      <td>0</td>\n",
       "      <td>0</td>\n",
       "      <td>0</td>\n",
       "      <td>0</td>\n",
       "      <td>0</td>\n",
       "      <td>0</td>\n",
       "      <td>0</td>\n",
       "      <td>0</td>\n",
       "      <td>0</td>\n",
       "      <td>0</td>\n",
       "      <td>4</td>\n",
       "      <td>[Walt Disney Pictures]</td>\n",
       "      <td>1</td>\n",
       "      <td>[en]</td>\n",
       "      <td>1</td>\n",
       "      <td>1</td>\n",
       "      <td>5685</td>\n",
       "    </tr>\n",
       "    <tr>\n",
       "      <th>2</th>\n",
       "      <td>3</td>\n",
       "      <td>[{\"id\":999999,\"name\":\"default\"}]</td>\n",
       "      <td>3300000</td>\n",
       "      <td>[{'id': 18, 'name': 'Drama'}]</td>\n",
       "      <td>http://sonyclassics.com/whiplash/</td>\n",
       "      <td>tt2582802</td>\n",
       "      <td>en</td>\n",
       "      <td>Whiplash</td>\n",
       "      <td>Under the direction of a ruthless instructor, ...</td>\n",
       "      <td>64.299990</td>\n",
       "      <td>/lIv1QinFqz4dlp5U4lQ6HaiskOZ.jpg</td>\n",
       "      <td>[{'name': 'Bold Films', 'id': 2266}, {'name': ...</td>\n",
       "      <td>[{'iso_3166_1': 'US', 'name': 'United States o...</td>\n",
       "      <td>2014-10-10</td>\n",
       "      <td>105.0</td>\n",
       "      <td>[{'iso_639_1': 'en', 'name': 'English'}]</td>\n",
       "      <td>Released</td>\n",
       "      <td>The road to greatness can take you to the edge.</td>\n",
       "      <td>Whiplash</td>\n",
       "      <td>13092000</td>\n",
       "      <td>999999</td>\n",
       "      <td>default</td>\n",
       "      <td>[Drama]</td>\n",
       "      <td>0</td>\n",
       "      <td>1</td>\n",
       "      <td>0</td>\n",
       "      <td>0</td>\n",
       "      <td>0</td>\n",
       "      <td>0</td>\n",
       "      <td>0</td>\n",
       "      <td>0</td>\n",
       "      <td>0</td>\n",
       "      <td>0</td>\n",
       "      <td>0</td>\n",
       "      <td>0</td>\n",
       "      <td>0</td>\n",
       "      <td>0</td>\n",
       "      <td>0</td>\n",
       "      <td>0</td>\n",
       "      <td>0</td>\n",
       "      <td>0</td>\n",
       "      <td>0</td>\n",
       "      <td>0</td>\n",
       "      <td>0</td>\n",
       "      <td>1</td>\n",
       "      <td>[Bold Films, Blumhouse Productions, Right of W...</td>\n",
       "      <td>3</td>\n",
       "      <td>[en]</td>\n",
       "      <td>1</td>\n",
       "      <td>1</td>\n",
       "      <td>1968</td>\n",
       "    </tr>\n",
       "    <tr>\n",
       "      <th>3</th>\n",
       "      <td>4</td>\n",
       "      <td>[{\"id\":999999,\"name\":\"default\"}]</td>\n",
       "      <td>1200000</td>\n",
       "      <td>[{'id': 53, 'name': 'Thriller'}, {'id': 18, 'n...</td>\n",
       "      <td>http://kahaanithefilm.com/</td>\n",
       "      <td>tt1821480</td>\n",
       "      <td>hi</td>\n",
       "      <td>Kahaani</td>\n",
       "      <td>Vidya Bagchi (Vidya Balan) arrives in Kolkata ...</td>\n",
       "      <td>3.174936</td>\n",
       "      <td>/aTXRaPrWSinhcmCrcfJK17urp3F.jpg</td>\n",
       "      <td>[{\"id\":999999,\"name\":\"default\"}]</td>\n",
       "      <td>[{'iso_3166_1': 'IN', 'name': 'India'}]</td>\n",
       "      <td>2012-03-09</td>\n",
       "      <td>122.0</td>\n",
       "      <td>[{'iso_639_1': 'en', 'name': 'English'}, {'iso...</td>\n",
       "      <td>Released</td>\n",
       "      <td>NaN</td>\n",
       "      <td>Kahaani</td>\n",
       "      <td>16000000</td>\n",
       "      <td>999999</td>\n",
       "      <td>default</td>\n",
       "      <td>[Thriller, Drama]</td>\n",
       "      <td>0</td>\n",
       "      <td>1</td>\n",
       "      <td>0</td>\n",
       "      <td>0</td>\n",
       "      <td>1</td>\n",
       "      <td>0</td>\n",
       "      <td>0</td>\n",
       "      <td>0</td>\n",
       "      <td>0</td>\n",
       "      <td>0</td>\n",
       "      <td>0</td>\n",
       "      <td>0</td>\n",
       "      <td>0</td>\n",
       "      <td>0</td>\n",
       "      <td>0</td>\n",
       "      <td>0</td>\n",
       "      <td>0</td>\n",
       "      <td>0</td>\n",
       "      <td>0</td>\n",
       "      <td>0</td>\n",
       "      <td>0</td>\n",
       "      <td>2</td>\n",
       "      <td>[default]</td>\n",
       "      <td>1</td>\n",
       "      <td>[en, hi]</td>\n",
       "      <td>2</td>\n",
       "      <td>1</td>\n",
       "      <td>2913</td>\n",
       "    </tr>\n",
       "  </tbody>\n",
       "</table>\n",
       "</div>"
      ],
      "text/plain": [
       "   id                              belongs_to_collection    budget  \\\n",
       "0   1  [{'id': 313576, 'name': 'Hot Tub Time Machine ...  14000000   \n",
       "1   2  [{'id': 107674, 'name': 'The Princess Diaries ...  40000000   \n",
       "2   3                   [{\"id\":999999,\"name\":\"default\"}]   3300000   \n",
       "3   4                   [{\"id\":999999,\"name\":\"default\"}]   1200000   \n",
       "\n",
       "                                              genres  \\\n",
       "0                     [{'id': 35, 'name': 'Comedy'}]   \n",
       "1  [{'id': 35, 'name': 'Comedy'}, {'id': 18, 'nam...   \n",
       "2                      [{'id': 18, 'name': 'Drama'}]   \n",
       "3  [{'id': 53, 'name': 'Thriller'}, {'id': 18, 'n...   \n",
       "\n",
       "                            homepage    imdb_id original_language  \\\n",
       "0                                NaN  tt2637294                en   \n",
       "1                                NaN  tt0368933                en   \n",
       "2  http://sonyclassics.com/whiplash/  tt2582802                en   \n",
       "3         http://kahaanithefilm.com/  tt1821480                hi   \n",
       "\n",
       "                             original_title  \\\n",
       "0                    Hot Tub Time Machine 2   \n",
       "1  The Princess Diaries 2: Royal Engagement   \n",
       "2                                  Whiplash   \n",
       "3                                   Kahaani   \n",
       "\n",
       "                                            overview  popularity  \\\n",
       "0  When Lou, who has become the \"father of the In...    6.575393   \n",
       "1  Mia Thermopolis is now a college graduate and ...    8.248895   \n",
       "2  Under the direction of a ruthless instructor, ...   64.299990   \n",
       "3  Vidya Bagchi (Vidya Balan) arrives in Kolkata ...    3.174936   \n",
       "\n",
       "                        poster_path  \\\n",
       "0  /tQtWuwvMf0hCc2QR2tkolwl7c3c.jpg   \n",
       "1  /w9Z7A0GHEhIp7etpj0vyKOeU1Wx.jpg   \n",
       "2  /lIv1QinFqz4dlp5U4lQ6HaiskOZ.jpg   \n",
       "3  /aTXRaPrWSinhcmCrcfJK17urp3F.jpg   \n",
       "\n",
       "                                production_companies  \\\n",
       "0  [{'name': 'Paramount Pictures', 'id': 4}, {'na...   \n",
       "1        [{'name': 'Walt Disney Pictures', 'id': 2}]   \n",
       "2  [{'name': 'Bold Films', 'id': 2266}, {'name': ...   \n",
       "3                   [{\"id\":999999,\"name\":\"default\"}]   \n",
       "\n",
       "                                production_countries release_date  runtime  \\\n",
       "0  [{'iso_3166_1': 'US', 'name': 'United States o...   2015-02-20     93.0   \n",
       "1  [{'iso_3166_1': 'US', 'name': 'United States o...   2004-08-06    113.0   \n",
       "2  [{'iso_3166_1': 'US', 'name': 'United States o...   2014-10-10    105.0   \n",
       "3            [{'iso_3166_1': 'IN', 'name': 'India'}]   2012-03-09    122.0   \n",
       "\n",
       "                                    spoken_languages    status  \\\n",
       "0           [{'iso_639_1': 'en', 'name': 'English'}]  Released   \n",
       "1           [{'iso_639_1': 'en', 'name': 'English'}]  Released   \n",
       "2           [{'iso_639_1': 'en', 'name': 'English'}]  Released   \n",
       "3  [{'iso_639_1': 'en', 'name': 'English'}, {'iso...  Released   \n",
       "\n",
       "                                             tagline  \\\n",
       "0  The Laws of Space and Time are About to be Vio...   \n",
       "1  It can take a lifetime to find true love; she'...   \n",
       "2    The road to greatness can take you to the edge.   \n",
       "3                                                NaN   \n",
       "\n",
       "                                      title   revenue  collection_id  \\\n",
       "0                    Hot Tub Time Machine 2  12314651         313576   \n",
       "1  The Princess Diaries 2: Royal Engagement  95149435         107674   \n",
       "2                                  Whiplash  13092000         999999   \n",
       "3                                   Kahaani  16000000         999999   \n",
       "\n",
       "                   collection_name                   genre_name_list  Comedy  \\\n",
       "0  Hot Tub Time Machine Collection                          [Comedy]       1   \n",
       "1  The Princess Diaries Collection  [Comedy, Drama, Family, Romance]       1   \n",
       "2                          default                           [Drama]       0   \n",
       "3                          default                 [Thriller, Drama]       0   \n",
       "\n",
       "   Drama  Family  Romance  Thriller  Action  Animation  Adventure  Horror  \\\n",
       "0      0       0        0         0       0          0          0       0   \n",
       "1      1       1        1         0       0          0          0       0   \n",
       "2      1       0        0         0       0          0          0       0   \n",
       "3      1       0        0         1       0          0          0       0   \n",
       "\n",
       "   Documentary  Music  Crime  Science Fiction  Mystery  Foreign  Fantasy  War  \\\n",
       "0            0      0      0                0        0        0        0    0   \n",
       "1            0      0      0                0        0        0        0    0   \n",
       "2            0      0      0                0        0        0        0    0   \n",
       "3            0      0      0                0        0        0        0    0   \n",
       "\n",
       "   Western  History  default  TV Movie  num_of_genres  \\\n",
       "0        0        0        0         0              1   \n",
       "1        0        0        0         0              4   \n",
       "2        0        0        0         0              1   \n",
       "3        0        0        0         0              2   \n",
       "\n",
       "                             prodcution_company_list  \\\n",
       "0  [Paramount Pictures, United Artists, Metro-Gol...   \n",
       "1                             [Walt Disney Pictures]   \n",
       "2  [Bold Films, Blumhouse Productions, Right of W...   \n",
       "3                                          [default]   \n",
       "\n",
       "   prodcution_company_count language_list  language_count  \\\n",
       "0                         3          [en]               1   \n",
       "1                         1          [en]               1   \n",
       "2                         3          [en]               1   \n",
       "3                         1      [en, hi]               2   \n",
       "\n",
       "   language_is_english  day_since_realeased  \n",
       "0                    1                 1835  \n",
       "1                    1                 5685  \n",
       "2                    1                 1968  \n",
       "3                    1                 2913  "
      ]
     },
     "execution_count": 31,
     "metadata": {},
     "output_type": "execute_result"
    }
   ],
   "source": [
    "df_train.head(4)\n"
   ]
  },
  {
   "cell_type": "markdown",
   "metadata": {},
   "source": [
    "Exploratory Data Analysis with Primary Variables:"
   ]
  },
  {
   "cell_type": "code",
   "execution_count": 32,
   "metadata": {},
   "outputs": [],
   "source": [
    "#Primary column list\n",
    "prim_col = ['id','budget','num_of_genres','collection_id','runtime','release_date','popularity','prodcution_company_count','language_count','language_is_english','day_since_realeased','revenue']\n"
   ]
  },
  {
   "cell_type": "code",
   "execution_count": 33,
   "metadata": {},
   "outputs": [
    {
     "data": {
      "text/plain": [
       "['id',\n",
       " 'budget',\n",
       " 'num_of_genres',\n",
       " 'collection_id',\n",
       " 'runtime',\n",
       " 'release_date',\n",
       " 'popularity',\n",
       " 'prodcution_company_count',\n",
       " 'language_count',\n",
       " 'language_is_english',\n",
       " 'day_since_realeased',\n",
       " 'revenue']"
      ]
     },
     "execution_count": 33,
     "metadata": {},
     "output_type": "execute_result"
    }
   ],
   "source": [
    "prim_col"
   ]
  },
  {
   "cell_type": "code",
   "execution_count": 34,
   "metadata": {},
   "outputs": [
    {
     "data": {
      "text/html": [
       "<div>\n",
       "<style scoped>\n",
       "    .dataframe tbody tr th:only-of-type {\n",
       "        vertical-align: middle;\n",
       "    }\n",
       "\n",
       "    .dataframe tbody tr th {\n",
       "        vertical-align: top;\n",
       "    }\n",
       "\n",
       "    .dataframe thead th {\n",
       "        text-align: right;\n",
       "    }\n",
       "</style>\n",
       "<table border=\"1\" class=\"dataframe\">\n",
       "  <thead>\n",
       "    <tr style=\"text-align: right;\">\n",
       "      <th></th>\n",
       "      <th>id</th>\n",
       "      <th>budget</th>\n",
       "      <th>num_of_genres</th>\n",
       "      <th>collection_id</th>\n",
       "      <th>runtime</th>\n",
       "      <th>release_date</th>\n",
       "      <th>popularity</th>\n",
       "      <th>prodcution_company_count</th>\n",
       "      <th>language_count</th>\n",
       "      <th>language_is_english</th>\n",
       "      <th>day_since_realeased</th>\n",
       "      <th>revenue</th>\n",
       "    </tr>\n",
       "  </thead>\n",
       "  <tbody>\n",
       "    <tr>\n",
       "      <th>0</th>\n",
       "      <td>1</td>\n",
       "      <td>14000000</td>\n",
       "      <td>1</td>\n",
       "      <td>313576</td>\n",
       "      <td>93.0</td>\n",
       "      <td>2015-02-20</td>\n",
       "      <td>6.575393</td>\n",
       "      <td>3</td>\n",
       "      <td>1</td>\n",
       "      <td>1</td>\n",
       "      <td>1835</td>\n",
       "      <td>12314651</td>\n",
       "    </tr>\n",
       "    <tr>\n",
       "      <th>1</th>\n",
       "      <td>2</td>\n",
       "      <td>40000000</td>\n",
       "      <td>4</td>\n",
       "      <td>107674</td>\n",
       "      <td>113.0</td>\n",
       "      <td>2004-08-06</td>\n",
       "      <td>8.248895</td>\n",
       "      <td>1</td>\n",
       "      <td>1</td>\n",
       "      <td>1</td>\n",
       "      <td>5685</td>\n",
       "      <td>95149435</td>\n",
       "    </tr>\n",
       "    <tr>\n",
       "      <th>2</th>\n",
       "      <td>3</td>\n",
       "      <td>3300000</td>\n",
       "      <td>1</td>\n",
       "      <td>999999</td>\n",
       "      <td>105.0</td>\n",
       "      <td>2014-10-10</td>\n",
       "      <td>64.299990</td>\n",
       "      <td>3</td>\n",
       "      <td>1</td>\n",
       "      <td>1</td>\n",
       "      <td>1968</td>\n",
       "      <td>13092000</td>\n",
       "    </tr>\n",
       "    <tr>\n",
       "      <th>3</th>\n",
       "      <td>4</td>\n",
       "      <td>1200000</td>\n",
       "      <td>2</td>\n",
       "      <td>999999</td>\n",
       "      <td>122.0</td>\n",
       "      <td>2012-03-09</td>\n",
       "      <td>3.174936</td>\n",
       "      <td>1</td>\n",
       "      <td>2</td>\n",
       "      <td>1</td>\n",
       "      <td>2913</td>\n",
       "      <td>16000000</td>\n",
       "    </tr>\n",
       "    <tr>\n",
       "      <th>4</th>\n",
       "      <td>5</td>\n",
       "      <td>0</td>\n",
       "      <td>2</td>\n",
       "      <td>999999</td>\n",
       "      <td>118.0</td>\n",
       "      <td>2009-02-05</td>\n",
       "      <td>1.148070</td>\n",
       "      <td>1</td>\n",
       "      <td>1</td>\n",
       "      <td>0</td>\n",
       "      <td>4041</td>\n",
       "      <td>3923970</td>\n",
       "    </tr>\n",
       "    <tr>\n",
       "      <th>5</th>\n",
       "      <td>6</td>\n",
       "      <td>8000000</td>\n",
       "      <td>3</td>\n",
       "      <td>999999</td>\n",
       "      <td>83.0</td>\n",
       "      <td>1987-08-06</td>\n",
       "      <td>0.743274</td>\n",
       "      <td>1</td>\n",
       "      <td>1</td>\n",
       "      <td>1</td>\n",
       "      <td>11895</td>\n",
       "      <td>3261638</td>\n",
       "    </tr>\n",
       "    <tr>\n",
       "      <th>6</th>\n",
       "      <td>7</td>\n",
       "      <td>14000000</td>\n",
       "      <td>2</td>\n",
       "      <td>999999</td>\n",
       "      <td>92.0</td>\n",
       "      <td>2012-08-30</td>\n",
       "      <td>7.286477</td>\n",
       "      <td>2</td>\n",
       "      <td>1</td>\n",
       "      <td>1</td>\n",
       "      <td>2739</td>\n",
       "      <td>85446075</td>\n",
       "    </tr>\n",
       "    <tr>\n",
       "      <th>7</th>\n",
       "      <td>8</td>\n",
       "      <td>0</td>\n",
       "      <td>1</td>\n",
       "      <td>999999</td>\n",
       "      <td>84.0</td>\n",
       "      <td>2004-01-15</td>\n",
       "      <td>1.949044</td>\n",
       "      <td>1</td>\n",
       "      <td>2</td>\n",
       "      <td>1</td>\n",
       "      <td>5889</td>\n",
       "      <td>2586511</td>\n",
       "    </tr>\n",
       "    <tr>\n",
       "      <th>8</th>\n",
       "      <td>9</td>\n",
       "      <td>0</td>\n",
       "      <td>5</td>\n",
       "      <td>256377</td>\n",
       "      <td>100.0</td>\n",
       "      <td>1996-02-16</td>\n",
       "      <td>6.902423</td>\n",
       "      <td>3</td>\n",
       "      <td>1</td>\n",
       "      <td>1</td>\n",
       "      <td>8779</td>\n",
       "      <td>34327391</td>\n",
       "    </tr>\n",
       "    <tr>\n",
       "      <th>9</th>\n",
       "      <td>10</td>\n",
       "      <td>6000000</td>\n",
       "      <td>2</td>\n",
       "      <td>999999</td>\n",
       "      <td>91.0</td>\n",
       "      <td>2003-04-16</td>\n",
       "      <td>4.672036</td>\n",
       "      <td>1</td>\n",
       "      <td>1</td>\n",
       "      <td>1</td>\n",
       "      <td>6163</td>\n",
       "      <td>18750246</td>\n",
       "    </tr>\n",
       "  </tbody>\n",
       "</table>\n",
       "</div>"
      ],
      "text/plain": [
       "   id    budget  num_of_genres  collection_id  runtime release_date  \\\n",
       "0   1  14000000              1         313576     93.0   2015-02-20   \n",
       "1   2  40000000              4         107674    113.0   2004-08-06   \n",
       "2   3   3300000              1         999999    105.0   2014-10-10   \n",
       "3   4   1200000              2         999999    122.0   2012-03-09   \n",
       "4   5         0              2         999999    118.0   2009-02-05   \n",
       "5   6   8000000              3         999999     83.0   1987-08-06   \n",
       "6   7  14000000              2         999999     92.0   2012-08-30   \n",
       "7   8         0              1         999999     84.0   2004-01-15   \n",
       "8   9         0              5         256377    100.0   1996-02-16   \n",
       "9  10   6000000              2         999999     91.0   2003-04-16   \n",
       "\n",
       "   popularity  prodcution_company_count  language_count  language_is_english  \\\n",
       "0    6.575393                         3               1                    1   \n",
       "1    8.248895                         1               1                    1   \n",
       "2   64.299990                         3               1                    1   \n",
       "3    3.174936                         1               2                    1   \n",
       "4    1.148070                         1               1                    0   \n",
       "5    0.743274                         1               1                    1   \n",
       "6    7.286477                         2               1                    1   \n",
       "7    1.949044                         1               2                    1   \n",
       "8    6.902423                         3               1                    1   \n",
       "9    4.672036                         1               1                    1   \n",
       "\n",
       "   day_since_realeased   revenue  \n",
       "0                 1835  12314651  \n",
       "1                 5685  95149435  \n",
       "2                 1968  13092000  \n",
       "3                 2913  16000000  \n",
       "4                 4041   3923970  \n",
       "5                11895   3261638  \n",
       "6                 2739  85446075  \n",
       "7                 5889   2586511  \n",
       "8                 8779  34327391  \n",
       "9                 6163  18750246  "
      ]
     },
     "execution_count": 34,
     "metadata": {},
     "output_type": "execute_result"
    }
   ],
   "source": [
    "df_train[prim_col].head(10)"
   ]
  },
  {
   "cell_type": "markdown",
   "metadata": {},
   "source": [
    "•\tInclude a histogram of each of the 5 variables – in your summary and analysis,   \n",
    "identify any outliers and explain the reasoning for them being outliers and how you believe they should be handled (Chapter 2).    \n",
    "•\tInclude the other descriptive characteristics about the variables: Mean, Mode, Spread, and Tails (Chapter 2).  "
   ]
  },
  {
   "cell_type": "code",
   "execution_count": 35,
   "metadata": {},
   "outputs": [],
   "source": [
    "df_train_1 = df_train.loc[df_train['budget']>1000000,prim_col]\n",
    "df_train_1['budget'] = df_train_1['budget']/1000000\n",
    "df_train_1['revenue'] = df_train_1['revenue']/1000000"
   ]
  },
  {
   "cell_type": "code",
   "execution_count": 36,
   "metadata": {},
   "outputs": [
    {
     "data": {
      "text/html": [
       "<div>\n",
       "<style scoped>\n",
       "    .dataframe tbody tr th:only-of-type {\n",
       "        vertical-align: middle;\n",
       "    }\n",
       "\n",
       "    .dataframe tbody tr th {\n",
       "        vertical-align: top;\n",
       "    }\n",
       "\n",
       "    .dataframe thead th {\n",
       "        text-align: right;\n",
       "    }\n",
       "</style>\n",
       "<table border=\"1\" class=\"dataframe\">\n",
       "  <thead>\n",
       "    <tr style=\"text-align: right;\">\n",
       "      <th></th>\n",
       "      <th>id</th>\n",
       "      <th>budget</th>\n",
       "      <th>num_of_genres</th>\n",
       "      <th>collection_id</th>\n",
       "      <th>runtime</th>\n",
       "      <th>popularity</th>\n",
       "      <th>prodcution_company_count</th>\n",
       "      <th>language_count</th>\n",
       "      <th>language_is_english</th>\n",
       "      <th>day_since_realeased</th>\n",
       "      <th>revenue</th>\n",
       "    </tr>\n",
       "  </thead>\n",
       "  <tbody>\n",
       "    <tr>\n",
       "      <th>count</th>\n",
       "      <td>2012.000000</td>\n",
       "      <td>2012.00000</td>\n",
       "      <td>2012.000000</td>\n",
       "      <td>2012.000000</td>\n",
       "      <td>2011.000000</td>\n",
       "      <td>2012.000000</td>\n",
       "      <td>2012.000000</td>\n",
       "      <td>2012.000000</td>\n",
       "      <td>2012.000000</td>\n",
       "      <td>2012.000000</td>\n",
       "      <td>2012.000000</td>\n",
       "    </tr>\n",
       "    <tr>\n",
       "      <th>mean</th>\n",
       "      <td>1507.716203</td>\n",
       "      <td>33.55604</td>\n",
       "      <td>2.638668</td>\n",
       "      <td>796685.127237</td>\n",
       "      <td>110.875186</td>\n",
       "      <td>10.150139</td>\n",
       "      <td>3.021372</td>\n",
       "      <td>1.521372</td>\n",
       "      <td>0.919483</td>\n",
       "      <td>5399.040258</td>\n",
       "      <td>93.820281</td>\n",
       "    </tr>\n",
       "    <tr>\n",
       "      <th>std</th>\n",
       "      <td>866.775010</td>\n",
       "      <td>40.92917</td>\n",
       "      <td>1.131861</td>\n",
       "      <td>377498.396034</td>\n",
       "      <td>22.239108</td>\n",
       "      <td>14.199703</td>\n",
       "      <td>1.968433</td>\n",
       "      <td>0.942420</td>\n",
       "      <td>0.272159</td>\n",
       "      <td>5333.661003</td>\n",
       "      <td>160.133492</td>\n",
       "    </tr>\n",
       "    <tr>\n",
       "      <th>min</th>\n",
       "      <td>1.000000</td>\n",
       "      <td>1.07000</td>\n",
       "      <td>1.000000</td>\n",
       "      <td>10.000000</td>\n",
       "      <td>0.000000</td>\n",
       "      <td>0.011574</td>\n",
       "      <td>1.000000</td>\n",
       "      <td>1.000000</td>\n",
       "      <td>0.000000</td>\n",
       "      <td>-17783.000000</td>\n",
       "      <td>0.000006</td>\n",
       "    </tr>\n",
       "    <tr>\n",
       "      <th>25%</th>\n",
       "      <td>751.750000</td>\n",
       "      <td>7.86500</td>\n",
       "      <td>2.000000</td>\n",
       "      <td>999999.000000</td>\n",
       "      <td>96.000000</td>\n",
       "      <td>5.874042</td>\n",
       "      <td>2.000000</td>\n",
       "      <td>1.000000</td>\n",
       "      <td>1.000000</td>\n",
       "      <td>2886.750000</td>\n",
       "      <td>9.748453</td>\n",
       "    </tr>\n",
       "    <tr>\n",
       "      <th>50%</th>\n",
       "      <td>1514.500000</td>\n",
       "      <td>19.50000</td>\n",
       "      <td>3.000000</td>\n",
       "      <td>999999.000000</td>\n",
       "      <td>107.000000</td>\n",
       "      <td>8.592823</td>\n",
       "      <td>3.000000</td>\n",
       "      <td>1.000000</td>\n",
       "      <td>1.000000</td>\n",
       "      <td>5108.000000</td>\n",
       "      <td>35.114600</td>\n",
       "    </tr>\n",
       "    <tr>\n",
       "      <th>75%</th>\n",
       "      <td>2250.750000</td>\n",
       "      <td>40.00000</td>\n",
       "      <td>3.000000</td>\n",
       "      <td>999999.000000</td>\n",
       "      <td>121.000000</td>\n",
       "      <td>11.892150</td>\n",
       "      <td>4.000000</td>\n",
       "      <td>2.000000</td>\n",
       "      <td>1.000000</td>\n",
       "      <td>8185.500000</td>\n",
       "      <td>107.667806</td>\n",
       "    </tr>\n",
       "    <tr>\n",
       "      <th>max</th>\n",
       "      <td>3000.000000</td>\n",
       "      <td>380.00000</td>\n",
       "      <td>7.000000</td>\n",
       "      <td>999999.000000</td>\n",
       "      <td>338.000000</td>\n",
       "      <td>294.337037</td>\n",
       "      <td>16.000000</td>\n",
       "      <td>9.000000</td>\n",
       "      <td>1.000000</td>\n",
       "      <td>18686.000000</td>\n",
       "      <td>1519.557910</td>\n",
       "    </tr>\n",
       "  </tbody>\n",
       "</table>\n",
       "</div>"
      ],
      "text/plain": [
       "                id      budget  num_of_genres  collection_id      runtime  \\\n",
       "count  2012.000000  2012.00000    2012.000000    2012.000000  2011.000000   \n",
       "mean   1507.716203    33.55604       2.638668  796685.127237   110.875186   \n",
       "std     866.775010    40.92917       1.131861  377498.396034    22.239108   \n",
       "min       1.000000     1.07000       1.000000      10.000000     0.000000   \n",
       "25%     751.750000     7.86500       2.000000  999999.000000    96.000000   \n",
       "50%    1514.500000    19.50000       3.000000  999999.000000   107.000000   \n",
       "75%    2250.750000    40.00000       3.000000  999999.000000   121.000000   \n",
       "max    3000.000000   380.00000       7.000000  999999.000000   338.000000   \n",
       "\n",
       "        popularity  prodcution_company_count  language_count  \\\n",
       "count  2012.000000               2012.000000     2012.000000   \n",
       "mean     10.150139                  3.021372        1.521372   \n",
       "std      14.199703                  1.968433        0.942420   \n",
       "min       0.011574                  1.000000        1.000000   \n",
       "25%       5.874042                  2.000000        1.000000   \n",
       "50%       8.592823                  3.000000        1.000000   \n",
       "75%      11.892150                  4.000000        2.000000   \n",
       "max     294.337037                 16.000000        9.000000   \n",
       "\n",
       "       language_is_english  day_since_realeased      revenue  \n",
       "count          2012.000000          2012.000000  2012.000000  \n",
       "mean              0.919483          5399.040258    93.820281  \n",
       "std               0.272159          5333.661003   160.133492  \n",
       "min               0.000000        -17783.000000     0.000006  \n",
       "25%               1.000000          2886.750000     9.748453  \n",
       "50%               1.000000          5108.000000    35.114600  \n",
       "75%               1.000000          8185.500000   107.667806  \n",
       "max               1.000000         18686.000000  1519.557910  "
      ]
     },
     "execution_count": 36,
     "metadata": {},
     "output_type": "execute_result"
    }
   ],
   "source": [
    "df_train_1.describe()"
   ]
  },
  {
   "cell_type": "markdown",
   "metadata": {},
   "source": [
    "## Based on above summary statistics ,  \n",
    "\n",
    "\n",
    "Let's check them with Histogram."
   ]
  },
  {
   "cell_type": "code",
   "execution_count": 198,
   "metadata": {},
   "outputs": [],
   "source": [
    "df_train_2 = df_train_1.loc[df_train_1['revenue']>0]"
   ]
  },
  {
   "cell_type": "code",
   "execution_count": 200,
   "metadata": {},
   "outputs": [
    {
     "name": "stderr",
     "output_type": "stream",
     "text": [
      "/opt/python/python35/lib/python3.5/site-packages/numpy/lib/histograms.py:746: RuntimeWarning: invalid value encountered in greater_equal\n",
      "  keep = (tmp_a >= first_edge)\n",
      "/opt/python/python35/lib/python3.5/site-packages/numpy/lib/histograms.py:747: RuntimeWarning: invalid value encountered in less_equal\n",
      "  keep &= (tmp_a <= last_edge)\n"
     ]
    },
    {
     "data": {
      "image/png": "[encoded data removed]",
      "text/plain": [
       "<Figure size 1440x1440 with 6 Axes>"
      ]
     },
     "metadata": {},
     "output_type": "display_data"
    }
   ],
   "source": [
    "import matplotlib.pyplot as plt\n",
    "fig,ax = plt.subplots(2,3,figsize=(20,20))\n",
    "fig.set_label(\"Histogram of Top 6 features\")\n",
    "ax[0][0].hist(df_train_2['budget'],bins=100)\n",
    "ax[0][0].set_title(\"Budget Histogram\")\n",
    "ax[0][0].set(xlabel='Budget in Million', ylabel='count of records')\n",
    "ax[0][1].hist(df_train_2['num_of_genres'],bins=100)\n",
    "ax[0][1].set_title(\"num_of_genres Histogram\")\n",
    "ax[0][1].set(xlabel='num_of_genres', ylabel='count of records')\n",
    "ax[0][2].hist(df_train_2['popularity'],bins=100)\n",
    "ax[0][2].set_title(\"popularity  Histogram\")\n",
    "ax[0][2].set(xlabel='popularity', ylabel='count of records')\n",
    "ax[1][0].hist(df_train_2['language_count'])\n",
    "ax[1][0].set_title(\"language_count  Histogram\")\n",
    "ax[1][0].set(xlabel='language_count', ylabel='count of records')\n",
    "ax[1][1].hist(df_train_2['day_since_realeased'],bins=100)\n",
    "ax[1][1].set_title(\"day_since_realeased  Histogram\")\n",
    "ax[1][1].set(xlabel='day_since_realeased', ylabel='count of records')\n",
    "ax[1][2].hist(df_train_2['runtime'],bins=100)\n",
    "ax[1][2].set_title(\"runtime  Histogram\")\n",
    "ax[1][2].set(xlabel='runtime', ylabel='count of records')\n",
    "\n",
    "plt.show()"
   ]
  },
  {
   "cell_type": "markdown",
   "metadata": {},
   "source": [
    "•\tUsing pg. 29 of your text as an example, compare two scenarios in your data using a PMF.   \n",
    "Reminder, this isn’t comparing two variables against each other – it is the same variable, but a different scenario. Almost like a filter. The example in the book is first babies compared to all other babies, it is still the same variable, but breaking the data out based on criteria we are exploring (Chapter 3).  "
   ]
  },
  {
   "cell_type": "code",
   "execution_count": 201,
   "metadata": {},
   "outputs": [],
   "source": [
    "from scipy import stats"
   ]
  },
  {
   "cell_type": "code",
   "execution_count": 202,
   "metadata": {},
   "outputs": [],
   "source": [
    "eng_rev = df_train_2.loc[df_train_2['language_is_english'] ==1,['revenue']]"
   ]
  },
  {
   "cell_type": "code",
   "execution_count": 203,
   "metadata": {},
   "outputs": [],
   "source": [
    "eng_rev_a = stats.norm.pdf(eng_rev['revenue'],np.mean(eng_rev['revenue']),np.std(eng_rev['revenue']))"
   ]
  },
  {
   "cell_type": "code",
   "execution_count": 204,
   "metadata": {},
   "outputs": [],
   "source": [
    "eng_rev_b = stats.norm.cdf(eng_rev['revenue'],np.mean(eng_rev['revenue']),np.std(eng_rev['revenue']))"
   ]
  },
  {
   "cell_type": "code",
   "execution_count": 205,
   "metadata": {},
   "outputs": [
    {
     "data": {
      "image/png": "[encoded data removed]",
      "text/plain": [
       "<Figure size 432x288 with 1 Axes>"
      ]
     },
     "metadata": {},
     "output_type": "display_data"
    }
   ],
   "source": [
    "import matplotlib.pyplot as plt\n",
    "plt.plot(eng_rev_b)\n",
    "plt.show()"
   ]
  },
  {
   "cell_type": "code",
   "execution_count": 206,
   "metadata": {},
   "outputs": [
    {
     "data": {
      "image/png": "[encoded data removed]",
      "text/plain": [
       "<Figure size 432x288 with 1 Axes>"
      ]
     },
     "metadata": {},
     "output_type": "display_data"
    }
   ],
   "source": [
    "import matplotlib.pyplot as plt\n",
    "plt.plot(eng_rev_a)\n",
    "plt.show()"
   ]
  },
  {
   "cell_type": "code",
   "execution_count": 207,
   "metadata": {},
   "outputs": [],
   "source": [
    "import numpy as np\n",
    "import scipy.stats as st"
   ]
  },
  {
   "cell_type": "code",
   "execution_count": 208,
   "metadata": {},
   "outputs": [
    {
     "data": {
      "image/png": "[encoded data removed]",
      "text/plain": [
       "<Figure size 432x288 with 1 Axes>"
      ]
     },
     "metadata": {},
     "output_type": "display_data"
    }
   ],
   "source": [
    "\n",
    "# example of a bimodal data sample\n",
    "from matplotlib import pyplot\n",
    "from numpy.random import normal\n",
    "from numpy import hstack\n",
    "# generate a sample\n",
    "sample1 = normal(loc=20, scale=5, size=300)\n",
    "sample2 = normal(loc=40, scale=5, size=700)\n",
    "#sample = hstack((sample1, sample2))\n",
    "sample = eng_rev['revenue']\n",
    "# plot the histogram\n",
    "pyplot.hist(sample, bins=50)\n",
    "pyplot.show()"
   ]
  },
  {
   "cell_type": "code",
   "execution_count": 209,
   "metadata": {},
   "outputs": [
    {
     "data": {
      "text/plain": [
       "(300, 700, 2012, 2012)"
      ]
     },
     "execution_count": 209,
     "metadata": {},
     "output_type": "execute_result"
    }
   ],
   "source": [
    "len(sample1),len(sample2),len(df_train_2),len(df_train_1)"
   ]
  },
  {
   "cell_type": "code",
   "execution_count": 210,
   "metadata": {},
   "outputs": [
    {
     "data": {
      "image/png": "[encoded data removed]",
      "text/plain": [
       "<Figure size 432x288 with 1 Axes>"
      ]
     },
     "metadata": {},
     "output_type": "display_data"
    }
   ],
   "source": [
    "\n",
    "from matplotlib import pyplot\n",
    "from numpy.random import normal\n",
    "from statsmodels.distributions.empirical_distribution import ECDF\n",
    "\n",
    "eng_rev_en = df_train_2.loc[df_train_2['language_is_english'] ==1,['revenue']]\n",
    "eng_rev = df_train_2['revenue']\n",
    "\n",
    "sample1 = eng_rev_en['revenue']\n",
    "sample2 = eng_rev\n",
    "\n",
    "\n",
    "ecdf1 = ECDF(sample1)\n",
    "ecdf2 = ECDF(sample2)\n",
    "\n",
    "# plot the cdf\n",
    "pyplot.plot(ecdf1.x, ecdf1.y)\n",
    "pyplot.plot(ecdf2.x, ecdf2.y)\n",
    "pyplot.xlabel = 'Revenue in million'\n",
    "pyplot.ylabel = 'CDF'\n",
    "pyplot.show()\n"
   ]
  },
  {
   "cell_type": "code",
   "execution_count": 193,
   "metadata": {},
   "outputs": [
    {
     "data": {
      "image/png": "[encoded data removed]",
      "text/plain": [
       "<Figure size 432x288 with 1 Axes>"
      ]
     },
     "metadata": {},
     "output_type": "display_data"
    }
   ],
   "source": [
    "\n",
    "from matplotlib import pyplot\n",
    "from numpy.random import normal\n",
    "from numpy import hstack\n",
    "from statsmodels.distributions.empirical_distribution import ECDF\n",
    "\n",
    "eng_rev_en = df_train_2.loc[df_train_2['language_is_english'] ==1,['runtime']]\n",
    "eng_rev = df_train_2['runtime']\n",
    "\n",
    "sample3 = eng_rev_en['runtime']\n",
    "sample4 = eng_rev\n",
    "\n",
    "\n",
    "ecdf1 = ECDF(sample3)\n",
    "ecdf2 = ECDF(sample4)\n",
    "\n",
    "# plot the cdf\n",
    "pyplot.plot(ecdf1.x, ecdf1.y)\n",
    "pyplot.plot(ecdf2.x, ecdf2.y)\n",
    "pyplot.xlabel = 'Revenue in million'\n",
    "pyplot.ylabel = 'CDF'\n",
    "pyplot.show()"
   ]
  },
  {
   "cell_type": "code",
   "execution_count": 194,
   "metadata": {},
   "outputs": [
    {
     "data": {
      "image/png": "[encoded data removed]",
      "text/plain": [
       "<Figure size 432x288 with 1 Axes>"
      ]
     },
     "metadata": {},
     "output_type": "display_data"
    }
   ],
   "source": [
    "from matplotlib import pyplot\n",
    "from numpy.random import normal\n",
    "from numpy import hstack\n",
    "from statsmodels.distributions.empirical_distribution import ECDF\n",
    "\n",
    "eng_rev_en = df_train_2.loc[df_train_2['language_is_english'] ==1,['popularity']]\n",
    "eng_rev = df_train_2['popularity']\n",
    "\n",
    "sample3 = eng_rev_en['popularity']\n",
    "sample4 = eng_rev\n",
    "\n",
    "\n",
    "ecdf1 = ECDF(sample3)\n",
    "ecdf2 = ECDF(sample4)\n",
    "\n",
    "# plot the cdf\n",
    "pyplot.plot(ecdf1.x, ecdf1.y)\n",
    "pyplot.plot(ecdf2.x, ecdf2.y)\n",
    "pyplot.xlabel = 'Revenue in million'\n",
    "pyplot.ylabel = 'CDF'\n",
    "pyplot.show()"
   ]
  },
  {
   "cell_type": "markdown",
   "metadata": {},
   "source": [
    "•\tCreate two scatter plots comparing two variables and provide your analysis on correlation and causation.   \n",
    "Remember, covariance, Pearson’s correlation, and Non-Linear Relationships should also be considered during your analysis (Chapter 7)."
   ]
  },
  {
   "cell_type": "code",
   "execution_count": 247,
   "metadata": {},
   "outputs": [
    {
     "data": {
      "text/plain": [
       "[Text(0, 0.5, 'revenue in million $'), Text(0.5, 0, 'budget in millions $')]"
      ]
     },
     "execution_count": 247,
     "metadata": {},
     "output_type": "execute_result"
    }
   ],
   "source": [
    "import matplotlib.pyplot as plt\n",
    "\n",
    "fig,ax = plt1.subplots(1)\n",
    "ax.scatter(df_train_1.budget,df_train_1.revenue)\n",
    "ax.set_title(\"Budget vs Revenue\")\n",
    "ax.set(xlabel='budget in millions $',ylabel='revenue in million $')"
   ]
  },
  {
   "cell_type": "code",
   "execution_count": 248,
   "metadata": {},
   "outputs": [
    {
     "data": {
      "image/png": "[encoded data removed]",
      "text/plain": [
       "<Figure size 432x288 with 1 Axes>"
      ]
     },
     "metadata": {},
     "output_type": "display_data"
    }
   ],
   "source": [
    "plt.show()"
   ]
  },
  {
   "cell_type": "code",
   "execution_count": 252,
   "metadata": {},
   "outputs": [
    {
     "data": {
      "text/plain": [
       "[Text(0, 0.5, 'revenue in million $'), Text(0.5, 0, 'Runtime in Mins ')]"
      ]
     },
     "execution_count": 252,
     "metadata": {},
     "output_type": "execute_result"
    }
   ],
   "source": [
    "import matplotlib.pyplot as plt\n",
    "\n",
    "fig,ax = plt.subplots(1)\n",
    "ax.scatter(df_train_1.runtime,df_train_1.revenue)\n",
    "ax.set_title(\"Runtime vs Revenue\")\n",
    "ax.set(xlabel='Runtime in Mins ',ylabel='revenue in million $')"
   ]
  },
  {
   "cell_type": "code",
   "execution_count": 253,
   "metadata": {},
   "outputs": [
    {
     "data": {
      "image/png": "[encoded data removed]",
      "text/plain": [
       "<Figure size 432x288 with 1 Axes>"
      ]
     },
     "metadata": {},
     "output_type": "display_data"
    }
   ],
   "source": [
    "plt.show()"
   ]
  },
  {
   "cell_type": "code",
   "execution_count": 267,
   "metadata": {},
   "outputs": [
    {
     "data": {
      "text/plain": [
       "[Text(0, 0.5, 'revenue in million $'), Text(0.5, 0, 'popularity ')]"
      ]
     },
     "execution_count": 267,
     "metadata": {},
     "output_type": "execute_result"
    }
   ],
   "source": [
    "import matplotlib.pyplot as plt\n",
    "\n",
    "fig,ax = plt.subplots(1)\n",
    "ax.scatter(df_train_1.loc[df_train_1['popularity']<40,'popularity'],(df_train_1.loc[df_train_1['popularity']<40,'revenue']))\n",
    "ax.set_title(\"popularity vs Revenue\")\n",
    "ax.set(xlabel='popularity ',ylabel='revenue in million $')"
   ]
  },
  {
   "cell_type": "code",
   "execution_count": 268,
   "metadata": {},
   "outputs": [
    {
     "data": {
      "image/png": "[encoded data removed]",
      "text/plain": [
       "<Figure size 432x288 with 1 Axes>"
      ]
     },
     "metadata": {},
     "output_type": "display_data"
    }
   ],
   "source": [
    "plt.show()"
   ]
  },
  {
   "cell_type": "code",
   "execution_count": 270,
   "metadata": {},
   "outputs": [
    {
     "data": {
      "image/png": "[encoded data removed]",
      "text/plain": [
       "<Figure size 432x288 with 1 Axes>"
      ]
     },
     "metadata": {},
     "output_type": "display_data"
    }
   ],
   "source": [
    "import matplotlib.pyplot as plt\n",
    "\n",
    "fig,ax = plt.subplots(1)\n",
    "ax.scatter(df_train_1['num_of_genres'],df_train_1['revenue'])\n",
    "ax.set_title(\"num_of_genres vs Revenue\")\n",
    "ax.set(xlabel='num_of_genres ',ylabel='revenue in million $')\n",
    "plt.show()"
   ]
  },
  {
   "cell_type": "markdown",
   "metadata": {},
   "source": [
    "Corrlation analysis"
   ]
  },
  {
   "cell_type": "code",
   "execution_count": 272,
   "metadata": {},
   "outputs": [
    {
     "data": {
      "text/plain": [
       "(0.7340067054436022, 0.0)"
      ]
     },
     "execution_count": 272,
     "metadata": {},
     "output_type": "execute_result"
    }
   ],
   "source": [
    "import scipy.stats as st\n",
    "st.pearsonr(df_train_1.budget,df_train_1.revenue)"
   ]
  },
  {
   "cell_type": "markdown",
   "metadata": {},
   "source": [
    "Budget and revenue seems to be stringly correlated with a p-value less than 0.05.  \n",
    "Thus the correlation is statistically significant.  "
   ]
  },
  {
   "cell_type": "code",
   "execution_count": 286,
   "metadata": {},
   "outputs": [
    {
     "data": {
      "text/plain": [
       "(0.20170551212510718, 6.61814702944029e-20)"
      ]
     },
     "execution_count": 286,
     "metadata": {},
     "output_type": "execute_result"
    }
   ],
   "source": [
    "import scipy.stats as st\n",
    "df_train_3 = df_train_1.dropna()\n",
    "st.pearsonr(df_train_3.runtime,df_train_3.revenue)"
   ]
  },
  {
   "cell_type": "markdown",
   "metadata": {},
   "source": [
    "Movie Runtime and revenue doesn't seem to be  correlated with a vey small p-value less than 0.05.  \n",
    "Thus the correlation is statistically significant.  "
   ]
  },
  {
   "cell_type": "code",
   "execution_count": 288,
   "metadata": {},
   "outputs": [
    {
     "data": {
      "text/plain": [
       "(0.4359925127357491, 4.3153222778910924e-94)"
      ]
     },
     "execution_count": 288,
     "metadata": {},
     "output_type": "execute_result"
    }
   ],
   "source": [
    "import scipy.stats as st\n",
    "st.pearsonr(df_train_3.popularity,df_train_3.revenue)"
   ]
  },
  {
   "cell_type": "markdown",
   "metadata": {},
   "source": [
    "Movie popularity and revenue doesn't seem to be  correlated with a vey small p-value less than 0.05.  \n",
    "Thus the correlation is statistically significant. "
   ]
  },
  {
   "cell_type": "markdown",
   "metadata": {},
   "source": [
    "•\tConduct a test on your hypothesis using one of the methods covered in Chapter 9.  "
   ]
  },
  {
   "cell_type": "markdown",
   "metadata": {},
   "source": [
    "Null Hypotheis: At an average a movie with 3 different genres has higher revenue than one with 4 different genres\n",
    "Alternate Hypothesis: At an average a movie with 3 different genres has higher revenue than one with 4 different genres\n",
    "    "
   ]
  },
  {
   "cell_type": "code",
   "execution_count": 297,
   "metadata": {},
   "outputs": [],
   "source": [
    "movie_genr_3_4 = df_train_3.loc[(df_train_3.num_of_genres>3) & (df_train_3.num_of_genres<6)]"
   ]
  },
  {
   "cell_type": "code",
   "execution_count": 306,
   "metadata": {},
   "outputs": [
    {
     "name": "stdout",
     "output_type": "stream",
     "text": [
      "Average renenue of movies with 3 or 4 genres is :$123.30949550502511M\n",
      "Average renenue of movies with other than 3 or 4 genres is :$93.86691896867231M\n",
      "stat=3.280, p=0.001\n",
      "Difference in mean is significant\n"
     ]
    }
   ],
   "source": [
    "from scipy.stats import ttest_ind\n",
    "\n",
    "data1 = movie_genr_3_4.revenue\n",
    "data2 = df_train_3.revenue\n",
    "\n",
    "mean1 = np.mean(movie_genr_3_4.revenue)\n",
    "mean2 = np.mean(df_train_3.revenue)\n",
    "print(\"Average renenue of movies with 3 or 4 genres is :${}M\".format(mean1))\n",
    "print(\"Average renenue of movies with other than 3 or 4 genres is :${}M\".format(mean2))\n",
    "\n",
    "stat, p = ttest_ind(data1, data2)\n",
    "print('stat=%.3f, p=%.3f' % (stat, p))\n",
    "if p > 0.05:\n",
    "    print('Difference in mean is not significant')\n",
    "else:\n",
    "    print('Difference in mean is significant')"
   ]
  },
  {
   "cell_type": "markdown",
   "metadata": {},
   "source": [
    "Thus , if there are less than 3 or more than 4 genres of a movie it is likely to make less money than other movies with 3 and 4 genres. "
   ]
  },
  {
   "cell_type": "markdown",
   "metadata": {},
   "source": [
    "•\tFor this project, conduct a regression analysis on either one dependent and one explanatory variable,   \n",
    "or multiple explanatory variables (Chapter 10 & 11).\n",
    "\n"
   ]
  },
  {
   "cell_type": "code",
   "execution_count": 342,
   "metadata": {},
   "outputs": [],
   "source": [
    "# final_col_x = ['budget',\n",
    "#  'num_of_genres',\n",
    "#  'runtime',\n",
    "#  'popularity',\n",
    "#  'prodcution_company_count',\n",
    "#  'language_count',\n",
    "#  'language_is_english',\n",
    "#  'day_since_realeased']\n",
    "# final_col_y = ['revenue']\n",
    "final_col_x = ['budget',\n",
    " 'num_of_genres',\n",
    " 'runtime',\n",
    " 'prodcution_company_count',\n",
    " 'language_count',\n",
    " 'language_is_english']\n",
    "final_col_y = ['revenue']"
   ]
  },
  {
   "cell_type": "code",
   "execution_count": 343,
   "metadata": {},
   "outputs": [],
   "source": [
    "x_data = df_train_3[final_col_x]\n",
    "y_data = df_train_3[final_col_y]"
   ]
  },
  {
   "cell_type": "code",
   "execution_count": 344,
   "metadata": {},
   "outputs": [],
   "source": [
    "from  sklearn.model_selection import train_test_split\n",
    "from sklearn import  linear_model"
   ]
  },
  {
   "cell_type": "code",
   "execution_count": 345,
   "metadata": {},
   "outputs": [],
   "source": [
    "x_train,x_test,y_train,y_test = train_test_split(x_data,y_data,test_size = 0.2,random_state=7)"
   ]
  },
  {
   "cell_type": "code",
   "execution_count": 346,
   "metadata": {},
   "outputs": [
    {
     "data": {
      "text/plain": [
       "((1608, 6), (403, 6), (1608, 1), (403, 1))"
      ]
     },
     "execution_count": 346,
     "metadata": {},
     "output_type": "execute_result"
    }
   ],
   "source": [
    "x_train.shape,x_test.shape,y_train.shape,y_test.shape"
   ]
  },
  {
   "cell_type": "code",
   "execution_count": 347,
   "metadata": {},
   "outputs": [],
   "source": [
    "lm = linear_model.LinearRegression()\n",
    "model_house_price = lm.fit(x_train,y_train)"
   ]
  },
  {
   "cell_type": "markdown",
   "metadata": {},
   "source": [
    "Training Error:"
   ]
  },
  {
   "cell_type": "code",
   "execution_count": 348,
   "metadata": {},
   "outputs": [
    {
     "data": {
      "text/plain": [
       "0.546817660364014"
      ]
     },
     "execution_count": 348,
     "metadata": {},
     "output_type": "execute_result"
    }
   ],
   "source": [
    "lm.score(x_train,y_train)"
   ]
  },
  {
   "cell_type": "markdown",
   "metadata": {},
   "source": [
    "Testing error:"
   ]
  },
  {
   "cell_type": "code",
   "execution_count": 349,
   "metadata": {},
   "outputs": [],
   "source": [
    "y_pred = lm.predict(x_test)"
   ]
  },
  {
   "cell_type": "code",
   "execution_count": 350,
   "metadata": {},
   "outputs": [
    {
     "data": {
      "text/plain": [
       "0.5247748293719781"
      ]
     },
     "execution_count": 350,
     "metadata": {},
     "output_type": "execute_result"
    }
   ],
   "source": [
    "lm.score(x_test,y_test)"
   ]
  },
  {
   "cell_type": "code",
   "execution_count": 351,
   "metadata": {},
   "outputs": [
    {
     "data": {
      "text/plain": [
       "array([-23.96267465])"
      ]
     },
     "execution_count": 351,
     "metadata": {},
     "output_type": "execute_result"
    }
   ],
   "source": [
    "lm.intercept_"
   ]
  },
  {
   "cell_type": "code",
   "execution_count": 352,
   "metadata": {},
   "outputs": [
    {
     "data": {
      "text/plain": [
       "array([[ 2.90666839, -3.57455465,  0.42831778, -3.50464322, -3.27189136,\n",
       "        -2.03812046]])"
      ]
     },
     "execution_count": 352,
     "metadata": {},
     "output_type": "execute_result"
    }
   ],
   "source": [
    "lm.coef_"
   ]
  },
  {
   "cell_type": "code",
   "execution_count": null,
   "metadata": {},
   "outputs": [],
   "source": []
  }
 ],
 "metadata": {
  "kernelspec": {
   "display_name": "Python 3",
   "language": "python",
   "name": "python3"
  },
  "language_info": {
   "codemirror_mode": {
    "name": "ipython",
    "version": 3
   },
   "file_extension": ".py",
   "mimetype": "text/x-python",
   "name": "python",
   "nbconvert_exporter": "python",
   "pygments_lexer": "ipython3",
   "version": "3.5.3"
  },
  "projectdetails": {
   "creator_id": "sthak51",
   "notebook_id": "27f9df5d-1144-4dd0-bb65-fde9bbc1b819",
   "notebook_name": "tmdb_box_office_prediction.ipynb",
   "prod_sys": null,
   "project_desc": "training",
   "project_id": "17d925b8-3aa8-40b1-a640-baf36a16fddb",
   "project_name": "Training",
   "project_status": null,
   "status": "new"
  }
 },
 "nbformat": 4,
 "nbformat_minor": 2
}
